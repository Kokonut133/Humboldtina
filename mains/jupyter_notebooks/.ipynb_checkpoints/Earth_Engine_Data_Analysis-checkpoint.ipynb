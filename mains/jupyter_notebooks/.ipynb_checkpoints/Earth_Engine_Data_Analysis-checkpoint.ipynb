{
 "cells": [
  {
   "cell_type": "code",
   "execution_count": 1,
   "metadata": {},
   "outputs": [
    {
     "data": {
      "text/html": [
       "<p>To authorize access needed by Earth Engine, open the following\n",
       "        URL in a web browser and follow the instructions:</p>\n",
       "        <p><a href=https://accounts.google.com/o/oauth2/auth?client_id=517222506229-vsmmajv00ul0bs7p89v5m89qs8eb9359.apps.googleusercontent.com&scope=https%3A%2F%2Fwww.googleapis.com%2Fauth%2Fearthengine+https%3A%2F%2Fwww.googleapis.com%2Fauth%2Fdevstorage.full_control&redirect_uri=urn%3Aietf%3Awg%3Aoauth%3A2.0%3Aoob&response_type=code>https://accounts.google.com/o/oauth2/auth?client_id=517222506229-vsmmajv00ul0bs7p89v5m89qs8eb9359.apps.googleusercontent.com&scope=https%3A%2F%2Fwww.googleapis.com%2Fauth%2Fearthengine+https%3A%2F%2Fwww.googleapis.com%2Fauth%2Fdevstorage.full_control&redirect_uri=urn%3Aietf%3Awg%3Aoauth%3A2.0%3Aoob&response_type=code</a></p>\n",
       "        <p>The authorization workflow will generate a code, which you\n",
       "        should paste in the box below</p>\n",
       "        "
      ],
      "text/plain": [
       "<IPython.core.display.HTML object>"
      ]
     },
     "metadata": {},
     "output_type": "display_data"
    },
    {
     "name": "stdout",
     "output_type": "stream",
     "text": [
      "Enter verification code: 4/xAEO_Ca4LEwx5fUj28OSbxcvkZpAv-q7XcWCmomjZySzQKCEA_wZrdI\n",
      "\n",
      "Successfully saved authorization token.\n"
     ]
    }
   ],
   "source": [
    "import ee\n",
    "ee.Authenticate()\n",
    "ee.Initialize()\n",
    "\"\"\"\n",
    "Need to run these to import ee and the API \n",
    "\"\"\""
   ]
  },
  {
   "cell_type": "code",
   "execution_count": 9,
   "metadata": {},
   "outputs": [],
   "source": [
    "data = pd.read_csv('ppusadata.csv')\n",
    "is_coal = data['fuel1']=='Coal'\n",
    "coal_plants = data[is_coal]\n",
    "cp_coords = coal_plants[['latitude', 'longitude']]"
   ]
  },
  {
   "cell_type": "code",
   "execution_count": null,
   "metadata": {},
   "outputs": [],
   "source": [
    "\"\"\"\n",
    "Above I just took powerplant data for USA and filtered to just coal plants. Then I took the coordinates for the plants\n",
    "\n",
    "\"\"\""
   ]
  },
  {
   "cell_type": "code",
   "execution_count": 8,
   "metadata": {},
   "outputs": [],
   "source": [
    "import pandas as pd \n",
    "import numpy as np "
   ]
  },
  {
   "cell_type": "code",
   "execution_count": 10,
   "metadata": {},
   "outputs": [],
   "source": [
    "cord_array = cp_coords.values\n",
    "location = cord_array[0]\n",
    "bound3 = location + [0, 1.5]\n",
    "bound4 = location + [1.5, 0]\n",
    "bound1 = location + [-1.5, 0]\n",
    "bound2 = location + [0, -1.5]\n",
    "\n",
    "\"\"\"\n",
    "Defined an isolated region around a power plant, a 3x3 box\n",
    "\n",
    "\"\"\""
   ]
  },
  {
   "cell_type": "code",
   "execution_count": 11,
   "metadata": {},
   "outputs": [
    {
     "name": "stdout",
     "output_type": "stream",
     "text": [
      "[(17.9474, -67.6494), (17.9474, -66.1494), (16.4474, -66.1494), (16.4474, -67.6494), (17.9474, -67.6494)]\n"
     ]
    }
   ],
   "source": [
    "from shapely.geometry.polygon import LinearRing, Polygon\n",
    "from shapely.geometry import box\n",
    "b = box(bound1[0], bound2[1], bound3[0], bound4[1])\n",
    "region = Polygon([bound1, bound2, bound3, bound4])\n",
    "print(list(b.exterior.coords))\n",
    "region_list = list(b.exterior.coords)\n",
    "\"\"\"\n",
    "The format for region data for earth engine must be a specific type, so this was all just playing around\n",
    "\n",
    "\"\"\""
   ]
  },
  {
   "cell_type": "code",
   "execution_count": 30,
   "metadata": {},
   "outputs": [],
   "source": [
    "from ee import Geometry\n",
    "reactor_region = Geometry.Rectangle([(16.4474, -67.6494), (17.9474,-66.1494 )])\n",
    "\"\"\"\n",
    "here is the actual geometry region used\n",
    "\"\"\""
   ]
  },
  {
   "cell_type": "code",
   "execution_count": 12,
   "metadata": {},
   "outputs": [],
   "source": [
    "from matplotlib import pyplot"
   ]
  },
  {
   "cell_type": "code",
   "execution_count": 13,
   "metadata": {},
   "outputs": [
    {
     "data": {
      "text/plain": [
       "Text(0.5, 1.0, 'Polygon')"
      ]
     },
     "execution_count": 13,
     "metadata": {},
     "output_type": "execute_result"
    },
    {
     "data": {
      "image/png": "[encoded data removed]",
      "text/plain": [
       "<Figure size 450x450 with 1 Axes>"
      ]
     },
     "metadata": {
      "needs_background": "light"
     },
     "output_type": "display_data"
    }
   ],
   "source": [
    "x,y = b.exterior.xy\n",
    "fig = pyplot.figure(1, figsize=(5,5), dpi=90)\n",
    "ax = fig.add_subplot(111)\n",
    "ax.plot(x, y, color='#6699cc', alpha=0.7,\n",
    "    linewidth=3, solid_capstyle='round', zorder=2)\n",
    "ax.set_title('Polygon')\n",
    "\"\"\"\n",
    "plotting because why not \n",
    "\n",
    "\"\"\""
   ]
  },
  {
   "cell_type": "code",
   "execution_count": 38,
   "metadata": {},
   "outputs": [
    {
     "name": "stdout",
     "output_type": "stream",
     "text": [
      "ee.List({\n",
      "  \"type\": \"Invocation\",\n",
      "  \"arguments\": {\n",
      "    \"collection\": {\n",
      "      \"type\": \"Invocation\",\n",
      "      \"arguments\": {\n",
      "        \"id\": \"COPERNICUS/S5P/NRTI/L3_CO\"\n",
      "      },\n",
      "      \"functionName\": \"ImageCollection.load\"\n",
      "    },\n",
      "    \"count\": {\n",
      "      \"type\": \"Invocation\",\n",
      "      \"arguments\": {\n",
      "        \"collection\": {\n",
      "          \"type\": \"Invocation\",\n",
      "          \"arguments\": {\n",
      "            \"id\": \"COPERNICUS/S5P/NRTI/L3_CO\"\n",
      "          },\n",
      "          \"functionName\": \"ImageCollection.load\"\n",
      "        }\n",
      "      },\n",
      "      \"functionName\": \"Collection.size\"\n",
      "    }\n",
      "  },\n",
      "  \"functionName\": \"Collection.toList\"\n",
      "})\n"
     ]
    }
   ],
   "source": [
    "from geetools import batch #https://github.com/gee-community/gee_tools/blob/master/geetools/batch/imagecollection.py\n",
    "s5rp = ee.ImageCollection('COPERNICUS/S5P/NRTI/L3_CO').filterDate('2019-06-01', '2019-06-5').map(lambda image: image.multiply(512).uint8())\n",
    "tasklist = batch.Export.imagecollection.toDrive(collection=s5rp, folder='EE_Shit', region= reactor_region, dataType=\"Uint8\")\n",
    "\n",
    "\"\"\"\n",
    "This will download a bunch of files from the S5P sat, from the dates, in a uint8 format. I think it is possible to do float values but not sure. \n",
    "\n",
    "This was a tool developed open source, not by ee exactly- see github repo \n",
    "\n",
    "\"\"\"\n",
    "\n",
    "#NOTE: \n",
    "\"\"\"\n",
    "one can also do it this way, as a video not as a collection of images, but I did not get it to work: \n",
    "https://github.com/google/earthengine-api/blob/master/python/ee/imagecollection.py\n",
    "\n",
    "\"\"\"\n"
   ]
  },
  {
   "cell_type": "code",
   "execution_count": 39,
   "metadata": {},
   "outputs": [
    {
     "data": {
      "text/plain": [
       "{'state': 'READY',\n",
       " 'description': 'C0_Levels_Reactor1',\n",
       " 'creation_timestamp_ms': 1583416532807,\n",
       " 'update_timestamp_ms': 1583416532807,\n",
       " 'start_timestamp_ms': 0,\n",
       " 'task_type': 'EXPORT_VIDEO',\n",
       " 'id': 'WNS6EZF2V23UMAJEXBAHP7H2',\n",
       " 'name': 'projects/earthengine-legacy/operations/WNS6EZF2V23UMAJEXBAHP7H2'}"
      ]
     },
     "execution_count": 39,
     "metadata": {},
     "output_type": "execute_result"
    }
   ],
   "source": [
    "collection = ee.ImageCollection('COPERNICUS/S5P/NRTI/L3_CO').select('CO_column_number_density', 'H2O_column_number_density', 'cloud_height').filterDate('2019-06-01', '2019-06-5').map(lambda image: image.multiply(512).uint8())\n",
    "task = ee.batch.Export.video.toDrive(collection, maxPixels= 130000000000, description='C0_Levels_Reactor1', fileNamePrefix='trial', region=reactor_region, dimensions=720)\n",
    "task.start()\n",
    "task.status()"
   ]
  },
  {
   "cell_type": "code",
   "execution_count": 45,
   "metadata": {},
   "outputs": [
    {
     "data": {
      "text/plain": [
       "{'state': 'READY',\n",
       " 'description': 'C0_Levels_Reactor1',\n",
       " 'creation_timestamp_ms': 1583416532807,\n",
       " 'update_timestamp_ms': 1583416532807,\n",
       " 'start_timestamp_ms': 0,\n",
       " 'task_type': 'EXPORT_VIDEO',\n",
       " 'id': 'WNS6EZF2V23UMAJEXBAHP7H2',\n",
       " 'name': 'projects/earthengine-legacy/operations/WNS6EZF2V23UMAJEXBAHP7H2'}"
      ]
     },
     "execution_count": 45,
     "metadata": {},
     "output_type": "execute_result"
    }
   ],
   "source": [
    "task.status()"
   ]
  },
  {
   "cell_type": "code",
   "execution_count": null,
   "metadata": {},
   "outputs": [],
   "source": []
  },
  {
   "cell_type": "code",
   "execution_count": null,
   "metadata": {},
   "outputs": [],
   "source": []
  }
 ],
 "metadata": {
  "kernelspec": {
   "display_name": "Python 3",
   "language": "python",
   "name": "python3"
  },
  "language_info": {
   "codemirror_mode": {
    "name": "ipython",
    "version": 3
   },
   "file_extension": ".py",
   "mimetype": "text/x-python",
   "name": "python",
   "nbconvert_exporter": "python",
   "pygments_lexer": "ipython3",
   "version": "3.6.8"
  }
 },
 "nbformat": 4,
 "nbformat_minor": 4
}
